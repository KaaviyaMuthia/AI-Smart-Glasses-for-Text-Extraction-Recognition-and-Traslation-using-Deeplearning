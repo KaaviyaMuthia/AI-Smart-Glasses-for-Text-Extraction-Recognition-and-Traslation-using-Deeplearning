{
 "cells": [
  {
   "cell_type": "code",
   "execution_count": null,
   "id": "820c5ff3",
   "metadata": {},
   "outputs": [],
   "source": []
  },
  {
   "cell_type": "code",
   "execution_count": 66,
   "id": "5cf2159a",
   "metadata": {},
   "outputs": [
    {
     "name": "stdout",
     "output_type": "stream",
     "text": [
      "Now thar we are de\n",
      "t ares BNg-> explqias\n",
      "+ codes Int c Teal=M\n",
      "A not be POSBibte\n",
      "\"A TO Capt uve The\n",
      "\n",
      "\n",
      "playing sound using  playsound\n"
     ]
    }
   ],
   "source": [
    "# import necessary packages \n",
    "import cv2\n",
    "import os\n",
    "import pytesseract\n",
    "from PIL import Image\n",
    "import gtts\n",
    "from playsound import playsound\n",
    "\n",
    "\n",
    "# define a video capture object\n",
    "vid = cv2.VideoCapture(0)\n",
    "\n",
    "while(True):\n",
    "    ret, frame = vid.read()\n",
    "    cv2.imwrite('input.png',frame)\n",
    "    \n",
    "    cv2.imshow('frame', frame)\n",
    "    if cv2.waitKey(1) & 0xFF == ord('q'):\n",
    "        break\n",
    "\n",
    "\n",
    "vid.release()\n",
    "\n",
    "cv2.destroyAllWindows()\n",
    "\n",
    "#We then read the image with text\n",
    "images=cv2.imread(\"input.png\")\n",
    "\n",
    "#convert to grayscale image\n",
    "gray=cv2.cvtColor(images, cv2.COLOR_BGR2GRAY)\n",
    "\n",
    "#checking whether thresh or blur\n",
    "cv2.threshold(gray, 0,255,cv2.THRESH_BINARY| cv2.THRESH_OTSU)[1]\n",
    "\n",
    "#memory usage with image i.e. adding image to memory\n",
    "filename = \"{}.png\".format(os.getpid())\n",
    "cv2.imwrite(filename, gray)\n",
    "text = pytesseract.image_to_string(Image.open(filename))\n",
    "os.remove(filename)\n",
    "print(text)\n",
    "\n",
    "#saving the text as audio file\n",
    "tts = gtts.gTTS(text)\n",
    "tts.save(\"hello.mp3\")\n",
    "\n",
    "# for playing note.mp3 file\n",
    "playsound (\"C:/Users/alamu/BusNumber-Tesseract/hello.mp3\")\n",
    "print(\"playing sound using  playsound\")"
   ]
  },
  {
   "cell_type": "code",
   "execution_count": null,
   "id": "be35a361",
   "metadata": {},
   "outputs": [],
   "source": []
  }
 ],
 "metadata": {
  "kernelspec": {
   "display_name": "Python 3",
   "language": "python",
   "name": "python3"
  },
  "language_info": {
   "codemirror_mode": {
    "name": "ipython",
    "version": 3
   },
   "file_extension": ".py",
   "mimetype": "text/x-python",
   "name": "python",
   "nbconvert_exporter": "python",
   "pygments_lexer": "ipython3",
   "version": "3.7.11"
  }
 },
 "nbformat": 4,
 "nbformat_minor": 5
}
